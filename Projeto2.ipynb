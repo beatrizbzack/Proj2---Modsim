{
 "cells": [
  {
   "cell_type": "code",
   "execution_count": 23,
   "metadata": {},
   "outputs": [],
   "source": [
    "from scipy.integrate import odeint\n",
    "from math import *\n",
    "import numpy as np\n",
    "import matplotlib.pyplot as plt\n",
    "import pandas as pd "
   ]
  },
  {
   "cell_type": "code",
   "execution_count": 24,
   "metadata": {},
   "outputs": [
    {
     "data": {
      "text/plain": [
       "[<matplotlib.lines.Line2D at 0x1ee2880a8e0>]"
      ]
     },
     "execution_count": 24,
     "metadata": {},
     "output_type": "execute_result"
    },
    {
     "data": {
      "image/png": "[encoded data removed]",
      "text/plain": [
       "<Figure size 432x288 with 1 Axes>"
      ]
     },
     "metadata": {
      "needs_background": "light"
     },
     "output_type": "display_data"
    }
   ],
   "source": [
    "arquivo = pd.read_excel(\"Proj2 - Experimento_dados.xlsx\")\n",
    "arquivo.head()\n",
    "tagua_lista = list(arquivo['Tágua (oC)'])\n",
    "tagua_lista.pop(0)\n",
    "\n",
    "Trec_lista = list(arquivo['Txic (oC)'])\n",
    "lista_t_exp = np.arange(0,2400,60)\n",
    "plt.plot(lista_t_exp,tagua_lista)"
   ]
  },
  {
   "cell_type": "code",
   "execution_count": 49,
   "metadata": {},
   "outputs": [],
   "source": [
    "#Dimensões do recipiente\n",
    "hi=9*1e-2\n",
    "he= 9.5 *1e-2\n",
    "dia=8*1e-2\n",
    "diae=9*1e-2\n",
    "As = pi*(dia/2)**2 # Area superficie (m2)\n",
    "Ape=(2*pi*(diae/2))*he # Area de contato externa (m2)\n",
    "Api = (2*pi*(dia/2))*hi # Area de contato do recipiente CERÂMICA (m2)\n",
    "Vr = As*hi # (m3)\n",
    "\n",
    "hs = 38 # Coeficiente de convecção do ar\n",
    "Ta = 24+273.15 # Temperatura ambiente \n",
    "dr = 0.25 * 1e-2 # Metade da espessura do recipiente (m)\n",
    "Kr = 0.92 #Coeficiente de condução do recipiente CERÂMICA\n",
    "\n",
    "da = 997 #densidade da agua (kg/m3) \n",
    "\n",
    "ma = da*Vr  # Massa da água (kg)\n",
    "ca = 4186 # calor específico da água (J/(kg.K)\n",
    "mr = 0.200 # Massa do recipiente\n",
    "cr = 850 # Calor específico do recipiente \n",
    "# emissividade da cerâmica = 0.9\n",
    "\n",
    "# Constante de resistência do Material \n",
    "Rr = dr/(Kr*Api)\n",
    "Rp = 1/(hs*Ape)"
   ]
  },
  {
   "cell_type": "code",
   "execution_count": 52,
   "metadata": {},
   "outputs": [
    {
     "name": "stdout",
     "output_type": "stream",
     "text": [
      "[[357.75       357.75      ]\n",
      " [356.35583842 351.18514082]\n",
      " [354.62304803 349.44848672]\n",
      " [352.92984517 347.90304237]\n",
      " [351.28618869 346.40736815]\n",
      " [349.69095752 344.9558946 ]\n",
      " [348.14273112 343.54719832]\n",
      " [346.64012803 342.18001369]\n",
      " [345.18180041 340.85311144]\n",
      " [343.76644804 339.56531166]\n",
      " [342.39279962 338.31545804]\n",
      " [341.05962957 337.10243563]\n",
      " [339.76574355 335.92515834]\n",
      " [338.50998389 334.78256725]\n",
      " [337.29122946 333.67364918]\n",
      " [336.1083867  332.59740857]\n",
      " [334.96040111 331.55287856]\n",
      " [333.84624355 330.53912929]\n",
      " [332.7649171  329.55525366]\n",
      " [331.71545282 328.60036871]\n",
      " [330.69690998 327.67361748]\n",
      " [329.70837938 326.77417437]\n",
      " [328.74897895 325.90123745]\n",
      " [327.81785042 325.05402437]\n",
      " [326.91415999 324.23177507]\n",
      " [326.03709857 323.43375431]\n",
      " [325.18588124 322.65924991]\n",
      " [324.35974649 321.90756834]\n",
      " [323.55795541 321.17803632]\n",
      " [322.77979093 320.47000042]\n",
      " [322.02455664 319.78282806]\n",
      " [321.29157657 319.11590502]\n",
      " [320.58019509 318.46863453]\n",
      " [319.88977607 317.84043666]\n",
      " [319.21970129 317.23075029]\n",
      " [318.56937184 316.6390302 ]\n",
      " [317.9382058  316.06474511]\n",
      " [317.32563819 315.50738267]\n",
      " [316.73112129 314.96644534]\n",
      " [316.15412301 314.44144639]]\n"
     ]
    },
    {
     "data": {
      "image/png": "[encoded data removed]",
      "text/plain": [
       "<Figure size 432x288 with 1 Axes>"
      ]
     },
     "metadata": {
      "needs_background": "light"
     },
     "output_type": "display_data"
    }
   ],
   "source": [
    "def modelo(x, t):\n",
    "    Tagua = x[0]\n",
    "    Tr = x[1]\n",
    "\n",
    "    Q1 = (Tagua-Tr)/Rr\n",
    "    Q2 = (Tr - Ta)/(Rr + Rp) \n",
    "    Q3 = (Tagua-Ta)/(1/(hs*As))\n",
    "\n",
    "    dTaguadt = (1/(ma*ca))*(-Q1-Q3)\n",
    "    dTrdt = (1/(mr*cr))*(Q1-Q2)\n",
    "    dxdt = [dTaguadt, dTrdt]\n",
    "    return dxdt \n",
    "\n",
    "dt = 60 \n",
    "lista_t = np.arange(0, 60*40, dt)\n",
    "\n",
    "Tr_0 = 84.6 +273.15\n",
    "Tagua_0 = 84.6 +273.15\n",
    "x_0 = [Tr_0, Tagua_0]\n",
    "\n",
    "x = odeint(modelo, x_0, lista_t)\n",
    "Tr_lista = x[:,0]\n",
    "Tagua_lista = x[:, 1]\n",
    "print(x)\n",
    "# Gráficos \n",
    "plt.plot(lista_t, Tagua_lista-273.15,color='red')\n",
    "plt.plot(lista_t_exp,tagua_lista,color='blue')\n",
    "plt.title('Temperatura da água em função do tempo')\n",
    "plt.ylabel('Temperatura (°C)')\n",
    "plt.xlabel('Tempo (min)')\n",
    "plt.grid(True)\n",
    "plt.show()  "
   ]
  },
  {
   "cell_type": "code",
   "execution_count": 27,
   "metadata": {},
   "outputs": [
    {
     "ename": "SyntaxError",
     "evalue": "invalid syntax (Temp/ipykernel_17108/201350640.py, line 11)",
     "output_type": "error",
     "traceback": [
      "\u001b[1;36m  File \u001b[1;32m\"C:\\Users\\bebec\\AppData\\Local\\Temp/ipykernel_17108/201350640.py\"\u001b[1;36m, line \u001b[1;32m11\u001b[0m\n\u001b[1;33m    V = # Volume xícara (m3) - IGUAL PARA TODOS\u001b[0m\n\u001b[1;37m        ^\u001b[0m\n\u001b[1;31mSyntaxError\u001b[0m\u001b[1;31m:\u001b[0m invalid syntax\n"
     ]
    }
   ],
   "source": [
    "# VARIÁVEIS DE RECIPIENTES\n",
    "# Cerâmica[0](Alumina), Vidro[1](Borossilicato), Plástico-Polypropylene[2]\n",
    "\n",
    "# 12-38.5, 1.15 , 0.11-0.44\n",
    "Kr = [0.92, 1.15 , 0.44] #Coeficiente de condução do recipiente (W/(m.K))\n",
    "# 430-560, 7-19.84 ,24.5\n",
    "hp = [560, 19.84 , 24.5] # Coeficiente de convecção do recipiente |(W/(m2.K))\n",
    "# 451-955, 0.83, 1.6-2.5 \n",
    "cr = [955, 0.83, 2.5] # Calor específico do recipiente  (J/(kg.K)\n",
    "\n",
    "V = # Volume xícara (m3) - IGUAL PARA TODOS\n",
    "\n",
    "densidades = [3.8e3,2.23e4,1.07e3] # Densidade (kg/m3)\n",
    "def massa_recipientes(densidades, V):\n",
    "    mr = []# Massa do recipiente (kg)\n",
    "    for d in densidades:\n",
    "        m = d*V\n",
    "        mr.append(m)\n",
    "\n",
    "    return mr # Massa (Kg)\n"
   ]
  },
  {
   "cell_type": "code",
   "execution_count": null,
   "metadata": {},
   "outputs": [],
   "source": [
    "# COUNTERPLOT\n",
    "# Temperatura do Líquido X Tempo\n"
   ]
  }
 ],
 "metadata": {
  "interpreter": {
   "hash": "f6ddbe55e2974d990a8f2df6e3303e596c3e42665034bde50ed0765b99ed5bee"
  },
  "kernelspec": {
   "display_name": "Python 3.9.7 ('base')",
   "language": "python",
   "name": "python3"
  },
  "language_info": {
   "codemirror_mode": {
    "name": "ipython",
    "version": 3
   },
   "file_extension": ".py",
   "mimetype": "text/x-python",
   "name": "python",
   "nbconvert_exporter": "python",
   "pygments_lexer": "ipython3",
   "version": "3.9.7"
  },
  "orig_nbformat": 4
 },
 "nbformat": 4,
 "nbformat_minor": 2
}
